{
 "cells": [
  {
   "cell_type": "markdown",
   "metadata": {},
   "source": [
    "# Choropleth Maps"
   ]
  },
  {
   "cell_type": "markdown",
   "metadata": {},
   "source": [
    "## USA Choropleth"
   ]
  },
  {
   "cell_type": "code",
   "execution_count": 12,
   "metadata": {},
   "outputs": [
    {
     "data": {
      "text/html": [
       "<script>requirejs.config({paths: { 'plotly': ['https://cdn.plot.ly/plotly-latest.min']},});if(!window.Plotly) {{require(['plotly'],function(plotly) {window.Plotly=plotly;});}}</script>"
      ],
      "text/vnd.plotly.v1+html": [
       "<script>requirejs.config({paths: { 'plotly': ['https://cdn.plot.ly/plotly-latest.min']},});if(!window.Plotly) {{require(['plotly'],function(plotly) {window.Plotly=plotly;});}}</script>"
      ]
     },
     "metadata": {},
     "output_type": "display_data"
    }
   ],
   "source": [
    "# Imports\n",
    "import plotly as py\n",
    "import plotly.graph_objs as go\n",
    "from plotly.offline import download_plotlyjs, init_notebook_mode, plot, iplot\n",
    "\n",
    "# Initialize notebook mode\n",
    "init_notebook_mode(connected =True )"
   ]
  },
  {
   "cell_type": "code",
   "execution_count": 20,
   "metadata": {},
   "outputs": [
    {
     "data": {
      "application/vnd.plotly.v1+json": {
       "data": [
        {
         "colorbar": {
          "title": "Colorbar Title Goes Here"
         },
         "colorscale": "Greens",
         "locationmode": "USA-states",
         "locations": [
          "AZ",
          "CA",
          "NY"
         ],
         "text": [
          "Arizona",
          "Cali",
          "New York"
         ],
         "type": "choropleth",
         "z": [
          1,
          2,
          3
         ]
        }
       ],
       "layout": {
        "geo": {
         "scope": "usa"
        }
       }
      },
      "text/html": [
       "<div id=\"422ef5c8-cdeb-4e63-a5ce-e23194e92d35\" style=\"height: 525px; width: 100%;\" class=\"plotly-graph-div\"></div><script type=\"text/javascript\">require([\"plotly\"], function(Plotly) { window.PLOTLYENV=window.PLOTLYENV || {};window.PLOTLYENV.BASE_URL=\"https://plot.ly\";Plotly.newPlot(\"422ef5c8-cdeb-4e63-a5ce-e23194e92d35\", [{\"type\": \"choropleth\", \"locations\": [\"AZ\", \"CA\", \"NY\"], \"locationmode\": \"USA-states\", \"colorscale\": \"Greens\", \"text\": [\"Arizona\", \"Cali\", \"New York\"], \"z\": [1.0, 2.0, 3.0], \"colorbar\": {\"title\": \"Colorbar Title Goes Here\"}}], {\"geo\": {\"scope\": \"usa\"}}, {\"showLink\": true, \"linkText\": \"Export to plot.ly\"})});</script>"
      ],
      "text/vnd.plotly.v1+html": [
       "<div id=\"422ef5c8-cdeb-4e63-a5ce-e23194e92d35\" style=\"height: 525px; width: 100%;\" class=\"plotly-graph-div\"></div><script type=\"text/javascript\">require([\"plotly\"], function(Plotly) { window.PLOTLYENV=window.PLOTLYENV || {};window.PLOTLYENV.BASE_URL=\"https://plot.ly\";Plotly.newPlot(\"422ef5c8-cdeb-4e63-a5ce-e23194e92d35\", [{\"type\": \"choropleth\", \"locations\": [\"AZ\", \"CA\", \"NY\"], \"locationmode\": \"USA-states\", \"colorscale\": \"Greens\", \"text\": [\"Arizona\", \"Cali\", \"New York\"], \"z\": [1.0, 2.0, 3.0], \"colorbar\": {\"title\": \"Colorbar Title Goes Here\"}}], {\"geo\": {\"scope\": \"usa\"}}, {\"showLink\": true, \"linkText\": \"Export to plot.ly\"})});</script>"
      ]
     },
     "metadata": {},
     "output_type": "display_data"
    }
   ],
   "source": [
    "# Cast a list into a dictionary to create data object\n",
    "data = dict(type = 'choropleth',\n",
    "           locations = ['AZ','CA','NY'], \n",
    "           locationmode = 'USA-states',\n",
    "           colorscale = 'Greens',\n",
    "           text = ['Arizona', 'Cali', 'New York'], # match locations\n",
    "           z = [1.0,2.0,3.0], # values to represent as a color\n",
    "           colorbar = {'title':'Colorbar Title Goes Here'})\n",
    "\n",
    "# Creat layout object\n",
    "layout = dict(geo = {'scope':'usa'})\n",
    "\n",
    "# Pass data variable and layout variable to figure\n",
    "choromap = go.Figure(data = [data], layout = layout)\n",
    "\n",
    "# Plot\n",
    "iplot(choromap)\n",
    "\n",
    "# Create plot as html\n",
    "plot(choromap)"
   ]
  },
  {
   "cell_type": "markdown",
   "metadata": {},
   "source": [
    "**# Import library**  \n",
    "import pandas as pd\n",
    "\n",
    "**# Read data**  \n",
    "df = pd.read_csv('2011_IS_AGRI_Exports')\n",
    "\n",
    "**# Create data variable**  \n",
    "data = dict(type = 'choropleth',  \n",
    "           colorscale = 'YIOrRd',  \n",
    "           locations = df['code'],  \n",
    "           locationmode = 'USA-states',  \n",
    "           z = df['total exports'],  \n",
    "           text = df['text],  \n",
    "           marker = dict(line = dict(color = 'rgb(255,255,255)',width = 2)),  \n",
    "           colorbar = {'title': 'Millions USD'}  \n",
    "           )\n",
    "           \n",
    "**# Create layout variable**  \n",
    "layout = dict(title = '2011 US Agriculture Exports by State',   \n",
    "         geo = dict(scope = 'usa', showlakes = True, lakecolor =     'rgb(85,173,240)'))  \n",
    "         \n",
    "**# Create choromap**  \n",
    "choromap2 = go.Figure(data = [data], layout = layout)\n",
    "\n",
    "**# Plot**  \n",
    "iplot(choromap2)"
   ]
  },
  {
   "cell_type": "markdown",
   "metadata": {},
   "source": [
    "## Global Choropleth"
   ]
  },
  {
   "cell_type": "markdown",
   "metadata": {},
   "source": [
    "**# Read data **  \n",
    "df = pd.read_csv('2014_World_GDP.csv')  \n",
    "\n",
    "** # Create data variable**  \n",
    "data = dict(type = 'choropleth',  \n",
    "            location = df['CODE'],  \n",
    "            z = df['GDP (BILLIONS)']),  \n",
    "            text = df['COUNTRY'],  \n",
    "            colorbar = {'title':'GDP in Billions USD'})\n",
    "\n",
    "** # Create layout variable **  \n",
    "layout = dict(title = '2014 Global GDP,    \n",
    "              geo = dict(showframe = False,  \n",
    "                         projection = {'type':'Mercator'})) \n",
    "                         \n",
    "**# Create choromap**  \n",
    "choromap3 = go.Figure(data = [data], layout = layout)  \n",
    "\n",
    "**# Plot**  \n",
    "iplot(choromap3)\n",
    "\n",
    "## Reference\n",
    "https://plot.ly/python/reference/#choropleth\n",
    "            "
   ]
  },
  {
   "cell_type": "markdown",
   "metadata": {},
   "source": [
    "# EXERCISES"
   ]
  },
  {
   "cell_type": "markdown",
   "metadata": {},
   "source": [
    "## **International Power Consumption Choropleth**\n",
    "\n",
    "**# Plotly imports**   \n",
    "import plotly.graph_objs as go    \n",
    "from plotly.offline import init_notebook_mode, iplot    \n",
    "init_notebook_mode(connected = True)    \n",
    "  \n",
    "**# Import pandas and read the csv file: 2014_World_Power_Consumption**  \n",
    "import pandas as pd  \n",
    "df = pd.read_csv('2014_World_Power_Consumption.csv')    \n",
    "\n",
    "**# Check head of DataFrame**   \n",
    "df.head()  \n",
    "\n",
    "**# Create Choropleth Plot of the Power Consumption for Countries using the data and layout dictionary**\n",
    "\n",
    "data = dict(type = 'choropleth',    \n",
    "            locations = df['Country'],   \n",
    "            colorscale = 'Viridis',\n",
    "            reversescale = True,\n",
    "            locationmode = 'country names',    \n",
    "            z = df['Power Consumption KWH'],    \n",
    "            text = df['Country'],    \n",
    "            colorbar = {'title': 'Power Consumption KWH'})    \n",
    "            \n",
    "layout = dict(title = '2014 Power Consumption',    \n",
    "             geo = dict(showframe = False, projection {'type':'Mercator'}))\n",
    "           \n",
    "choromap = go.Figure(data = [data], layout = layout)  \n",
    "iplot(choromap, validate = False)  \n",
    "\n",
    "## **USA Election Choropleth**\n",
    "\n",
    "**# Read data**  \n",
    "usdf = pd.read_csv('2012_Election_Data')  \n",
    "usdf.head()  \n",
    "\n",
    "**# Create data dictionary**  \n",
    "data = dict(type = 'choropleth',  \n",
    "            colorscale = 'Viridis',  \n",
    "            reversescale = True,  \n",
    "            locations = usdf['State Abv'],  \n",
    "            z = usdf['Voting-Age Population (VAP)'],  \n",
    "            locationode = 'USA-states',  \n",
    "            text = usdf['State'],    \n",
    "            colorbar = {'title':Voting Age Population'})  \n",
    "            \n",
    "**# Create layout dictionary**    \n",
    "layout = dict(title = '2012 Election Data',  \n",
    "              geo = dict(scope = 'usa', showlakes = True, lakecolor ='rgb(85,173,240'))\n",
    "          \n",
    "**# Plot**      \n",
    "choromap = go.Figure(data = [data], layout = layout)  \n",
    "iplot(choromap, validate = False)\n",
    "\n"
   ]
  },
  {
   "cell_type": "code",
   "execution_count": null,
   "metadata": {
    "collapsed": true,
    "jupyter": {
     "outputs_hidden": true
    }
   },
   "outputs": [],
   "source": []
  }
 ],
 "metadata": {
  "kernelspec": {
   "display_name": "Python 3 (ipykernel)",
   "language": "python",
   "name": "python3"
  },
  "language_info": {
   "codemirror_mode": {
    "name": "ipython",
    "version": 3
   },
   "file_extension": ".py",
   "mimetype": "text/x-python",
   "name": "python",
   "nbconvert_exporter": "python",
   "pygments_lexer": "ipython3",
   "version": "3.11.1"
  }
 },
 "nbformat": 4,
 "nbformat_minor": 4
}
